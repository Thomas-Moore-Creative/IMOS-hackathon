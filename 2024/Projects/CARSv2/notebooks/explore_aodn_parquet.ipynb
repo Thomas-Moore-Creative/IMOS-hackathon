{
 "cells": [
  {
   "cell_type": "markdown",
   "id": "91da86bd-07e6-41cd-b86f-b0445ade6920",
   "metadata": {},
   "source": [
    "# explore AODN parquet"
   ]
  },
  {
   "cell_type": "markdown",
   "id": "c2ae71da-a402-4d95-9580-244126ee7556",
   "metadata": {},
   "source": [
    "based on notebooks by @lbesnard"
   ]
  },
  {
   "cell_type": "markdown",
   "id": "5b02c81a-5d4d-4ea8-be32-b546cf87db75",
   "metadata": {},
   "source": [
    "# import packages"
   ]
  },
  {
   "cell_type": "code",
   "execution_count": 3,
   "id": "7952c23a-1cdd-4b73-9596-cdd8464470a4",
   "metadata": {},
   "outputs": [],
   "source": [
    "from parquet_queries import create_time_filter, create_bbox_filter, query_unique_value, plot_spatial_extent, get_spatial_extent, get_temporal_extent, get_schema_metadata\n",
    "import pyarrow.parquet as pq\n",
    "import pyarrow.dataset as pds\n",
    "import pyarrow as pa\n",
    "import os\n",
    "import pandas as pd\n",
    "import pyarrow.compute as pc"
   ]
  },
  {
   "cell_type": "markdown",
   "id": "4fc9b33b-e1d2-46c8-ae7f-56aab9a81fc9",
   "metadata": {},
   "source": [
    "# parquet_queries functions"
   ]
  },
  {
   "cell_type": "code",
   "execution_count": 2,
   "id": "0c1f277a-8b4c-40d3-a21c-c8a9e584545e",
   "metadata": {},
   "outputs": [
    {
     "name": "stdout",
     "output_type": "stream",
     "text": [
      "Downloading parquet_queries.py\n"
     ]
    }
   ],
   "source": [
    "import requests\n",
    "import os\n",
    "if not os.path.exists('parquet_queries.py'):\n",
    "  print('Downloading parquet_queries.py')\n",
    "  url = 'https://raw.githubusercontent.com/aodn/IMOS-hackathon/main/2024/Tutorials/cloud_optimised_notebooks/parquet_queries.py'\n",
    "  response = requests.get(url)\n",
    "  with open('parquet_queries.py', 'w') as f:\n",
    "      f.write(response.text)"
   ]
  },
  {
   "cell_type": "markdown",
   "id": "dd3127b7-ac81-4df2-983c-0febc8cc1af5",
   "metadata": {},
   "source": [
    "# setup parquet dataset access"
   ]
  },
  {
   "cell_type": "code",
   "execution_count": 5,
   "id": "ca2b6923-424c-4a13-85ee-62dfd8e2cc2d",
   "metadata": {},
   "outputs": [],
   "source": [
    "dataset_name = \"anmn_ctd_ts_fv01\""
   ]
  },
  {
   "cell_type": "code",
   "execution_count": 6,
   "id": "ef18caab-41c2-4188-a4ae-29152f56ae9d",
   "metadata": {},
   "outputs": [],
   "source": [
    "BUCKET_OPTIMISED_DEFAULT=\"imos-data-lab-optimised\"\n",
    "dname = f\"s3://{BUCKET_OPTIMISED_DEFAULT}/parquet/loz_test/{dataset_name}/\"\n",
    "parquet_ds = pq.ParquetDataset(dname,partitioning='hive')"
   ]
  },
  {
   "cell_type": "markdown",
   "id": "057db825-0d19-44fe-a11d-96222a4e4f32",
   "metadata": {},
   "source": [
    "# Understanding the Dataset"
   ]
  },
  {
   "cell_type": "markdown",
   "id": "a6d940bb-ed47-487f-a485-e0f913d2ee65",
   "metadata": {},
   "source": [
    "## Get partition keys\n",
    "Partitioning in Parquet involves organising data files based on the values of one or more columns, known as partition keys. When data is written to Parquet files with partitioning enabled, the files are physically stored in a directory structure that reflects the partition keys. This directory structure makes it easier to retrieve and process specific subsets of data based on the partition keys."
   ]
  },
  {
   "cell_type": "code",
   "execution_count": 4,
   "id": "d52f8d09-bee6-4a5a-a732-ca0a25df4c99",
   "metadata": {},
   "outputs": [
    {
     "name": "stdout",
     "output_type": "stream",
     "text": [
      "site_code: string\n",
      "timestamp: int32\n",
      "polygon: string\n"
     ]
    }
   ],
   "source": [
    "dataset = pds.dataset(dname, format=\"parquet\", partitioning=\"hive\")\n",
    "\n",
    "partition_keys = dataset.partitioning.schema\n",
    "print(partition_keys)"
   ]
  },
  {
   "cell_type": "markdown",
   "id": "3c15b917-b916-4b52-b48c-335fcf7b790c",
   "metadata": {},
   "source": [
    "## List unique partition values"
   ]
  },
  {
   "cell_type": "code",
   "execution_count": 5,
   "id": "55ae7799-8115-4801-83e6-ab0e5965f69c",
   "metadata": {},
   "outputs": [
    {
     "name": "stdout",
     "output_type": "stream",
     "text": [
      "['GBRELR', 'SAM5CB']\n",
      "CPU times: user 12.5 ms, sys: 160 µs, total: 12.7 ms\n",
      "Wall time: 12.2 ms\n"
     ]
    }
   ],
   "source": [
    "%%time\n",
    "unique_partition_value = query_unique_value(parquet_ds, 'site_code')\n",
    "print(list(unique_partition_value)[0:2])  # showing a subset only"
   ]
  },
  {
   "cell_type": "markdown",
   "id": "39778c4f-7b0f-4591-83aa-abab1fd37287",
   "metadata": {},
   "source": [
    "## Visualise Spatial Extent of the dataset\n",
    "In this section, we're plotting the polygons where data exists. This helps then with creating a bounding box where there is data"
   ]
  },
  {
   "cell_type": "code",
   "execution_count": 6,
   "id": "bfcf4c0f-d119-4778-9a0f-59b9bc33cc25",
   "metadata": {},
   "outputs": [
    {
     "data": {
      "image/png": "[encoded data removed]",
      "text/plain": [
       "<Figure size 640x480 with 1 Axes>"
      ]
     },
     "metadata": {},
     "output_type": "display_data"
    }
   ],
   "source": [
    "plot_spatial_extent(parquet_ds)"
   ]
  }
 ],
 "metadata": {
  "kernelspec": {
   "display_name": "Python 3 (ipykernel)",
   "language": "python",
   "name": "python3"
  },
  "language_info": {
   "codemirror_mode": {
    "name": "ipython",
    "version": 3
   },
   "file_extension": ".py",
   "mimetype": "text/x-python",
   "name": "python",
   "nbconvert_exporter": "python",
   "pygments_lexer": "ipython3",
   "version": "3.12.2"
  }
 },
 "nbformat": 4,
 "nbformat_minor": 5
}
