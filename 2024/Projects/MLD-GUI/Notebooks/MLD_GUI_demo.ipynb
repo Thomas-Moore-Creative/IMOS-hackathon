{
 "cells": [
  {
   "cell_type": "markdown",
   "id": "ff504241-cbf8-4785-be39-514a750b85cd",
   "metadata": {},
   "source": [
    "### This Notebook is an attempt to create a GUI through Python.\n",
    "**I am going to be sincere and say that this work is all sweat and tears from Chat GPT**"
   ]
  },
  {
   "cell_type": "code",
   "execution_count": 5,
   "id": "6dbfaad2-9dff-4384-90be-c7e1fa91579a",
   "metadata": {},
   "outputs": [],
   "source": [
    "## ideas to incorporate!\n",
    "## ctrl z button\n",
    "## a next button: you load a file with a number of profiles in it and then you can flick through them one by one \n"
   ]
  },
  {
   "cell_type": "code",
   "execution_count": null,
   "id": "c5cf3ab7-3afd-4caf-9ba2-b54a5974d73f",
   "metadata": {},
   "outputs": [],
   "source": [
    "import tkinter as tk\n",
    "from tkinter import filedialog\n",
    "import matplotlib.pyplot as plt\n",
    "from matplotlib.backends.backend_tkagg import FigureCanvasTkAgg\n",
    "import numpy as np"
   ]
  },
  {
   "cell_type": "code",
   "execution_count": 28,
   "id": "cf8fa5d1-936e-4c75-85a0-1f28f48ae994",
   "metadata": {},
   "outputs": [],
   "source": [
    "# Generate dummy data for temperature profiles\n",
    "num_profiles = 2\n",
    "depth = np.arange(0, 1000, 10)  # Depth in meters\n",
    "temperature_profiles = []\n",
    "for _ in range(num_profiles):\n",
    "    temperature = np.random.uniform(2, 20, len(depth))  # Temperature in °C\n",
    "    temperature_profiles.append((depth, temperature))\n"
   ]
  },
  {
   "cell_type": "code",
   "execution_count": 29,
   "id": "4958a55d-d567-4a54-90d9-3e491bd8cc08",
   "metadata": {},
   "outputs": [
    {
     "data": {
      "text/plain": [
       "[(array([  0,  10,  20,  30,  40,  50,  60,  70,  80,  90, 100, 110, 120,\n",
       "         130, 140, 150, 160, 170, 180, 190, 200, 210, 220, 230, 240, 250,\n",
       "         260, 270, 280, 290, 300, 310, 320, 330, 340, 350, 360, 370, 380,\n",
       "         390, 400, 410, 420, 430, 440, 450, 460, 470, 480, 490, 500, 510,\n",
       "         520, 530, 540, 550, 560, 570, 580, 590, 600, 610, 620, 630, 640,\n",
       "         650, 660, 670, 680, 690, 700, 710, 720, 730, 740, 750, 760, 770,\n",
       "         780, 790, 800, 810, 820, 830, 840, 850, 860, 870, 880, 890, 900,\n",
       "         910, 920, 930, 940, 950, 960, 970, 980, 990]),\n",
       "  array([12.85965985, 19.70761845, 14.29037466,  6.41597951, 19.22702621,\n",
       "         10.11161298, 18.52079776, 13.98503482, 17.42342361, 12.09847112,\n",
       "         12.66706762, 12.06480963, 16.52524889, 12.60356293, 14.82812614,\n",
       "         19.16743702, 10.11067317,  6.22096844,  4.89081016,  3.50567595,\n",
       "          7.46008283,  5.7201969 , 18.4530084 , 19.91544159, 10.93229413,\n",
       "         15.00994362,  3.13194789,  2.96864621, 16.57108387, 12.89008799,\n",
       "         14.04605515, 15.70382669, 12.99848499,  6.04763486,  2.84360885,\n",
       "          6.75948786,  2.81414833, 18.19332351,  6.21096518,  2.72763453,\n",
       "          4.41720934, 10.97820015,  6.49514049, 16.20108675, 18.96028166,\n",
       "         16.45784645,  2.43634917, 13.5021738 ,  5.46219376,  6.45881835,\n",
       "          3.97577202, 12.07909329,  5.91328593, 12.07180911, 15.70178461,\n",
       "          7.62480685, 11.49138018, 15.01385977,  3.71116577,  8.06012139,\n",
       "         16.07952239, 16.99790081, 17.43773457,  3.42785185,  8.46355224,\n",
       "         17.05422933,  2.35056582, 17.94026204, 11.42581775,  6.213532  ,\n",
       "          6.97221524, 14.36645004, 11.48818798, 12.69632826,  7.30096915,\n",
       "         15.22386587, 15.12724718, 14.23483098,  7.37953616, 13.28673509,\n",
       "         19.5225059 ,  3.15599112, 12.51515271,  8.1517574 ,  3.11022007,\n",
       "          8.9947113 ,  9.9345756 , 18.59655012, 11.35576993,  8.98110261,\n",
       "          7.81506708,  4.45266481,  2.43700975,  4.72435247, 15.9768919 ,\n",
       "         12.77676233, 18.84950748, 12.10696542,  4.58772715,  2.05105526])),\n",
       " (array([  0,  10,  20,  30,  40,  50,  60,  70,  80,  90, 100, 110, 120,\n",
       "         130, 140, 150, 160, 170, 180, 190, 200, 210, 220, 230, 240, 250,\n",
       "         260, 270, 280, 290, 300, 310, 320, 330, 340, 350, 360, 370, 380,\n",
       "         390, 400, 410, 420, 430, 440, 450, 460, 470, 480, 490, 500, 510,\n",
       "         520, 530, 540, 550, 560, 570, 580, 590, 600, 610, 620, 630, 640,\n",
       "         650, 660, 670, 680, 690, 700, 710, 720, 730, 740, 750, 760, 770,\n",
       "         780, 790, 800, 810, 820, 830, 840, 850, 860, 870, 880, 890, 900,\n",
       "         910, 920, 930, 940, 950, 960, 970, 980, 990]),\n",
       "  array([ 7.97337501,  4.88250949,  7.66852894, 13.4619478 , 16.82076886,\n",
       "          6.58175037, 18.511289  ,  4.37161961, 13.54034987, 16.70451294,\n",
       "         14.19268783, 17.17665094,  3.98499886,  5.91909087, 19.08877523,\n",
       "         15.88627766, 10.42684153,  5.5789804 , 17.40585448, 15.6354053 ,\n",
       "          8.40352939, 18.8364029 ,  5.59992151, 11.26174541, 16.41895459,\n",
       "          5.77146861, 19.91098767, 15.89782782, 16.71790354, 17.02501048,\n",
       "          4.96046628, 19.857442  ,  2.11468721, 12.39728645, 17.64512546,\n",
       "         17.46503556, 18.75020934, 16.58548701,  3.76625277,  8.5564804 ,\n",
       "          2.37088407,  7.9191169 , 11.34824468, 10.02115453, 15.91354597,\n",
       "          8.52190556, 14.65075879,  2.00949579, 11.32706319,  8.51445934,\n",
       "         14.14615417, 12.20613211,  2.79914778, 11.48926796, 14.17004588,\n",
       "          8.50070594, 19.24075344,  6.15723682, 10.07343358, 16.57797513,\n",
       "          5.30316433,  7.58037392, 18.95263797, 13.54683867, 18.04227825,\n",
       "         11.40259085, 14.69508808,  3.12485521,  6.85696957,  4.61680059,\n",
       "         10.08017033, 14.33093157, 14.24464398, 15.93353371, 10.75019125,\n",
       "         14.07851691, 12.77384454, 11.84166187,  9.26795405,  6.67912014,\n",
       "         11.03815731,  9.73027855, 17.52850204, 15.94970967,  5.20904662,\n",
       "         11.59963087, 14.01603311, 15.73269877, 16.98987371, 15.87001461,\n",
       "          7.97582451, 16.31269658,  3.98323609, 14.36482562, 19.95052897,\n",
       "         16.57876793, 17.29654224,  5.0336637 , 16.02474447,  2.78506152]))]"
      ]
     },
     "execution_count": 29,
     "metadata": {},
     "output_type": "execute_result"
    }
   ],
   "source": [
    "temperature_profiles"
   ]
  },
  {
   "cell_type": "code",
   "execution_count": 30,
   "id": "747487c1-d392-496c-8c9d-cb41963e50f2",
   "metadata": {},
   "outputs": [],
   "source": [
    "%matplotlib qt\n",
    "\n",
    "class OceanProfileGUI:\n",
    "    def __init__(self, root, temperature_profiles):\n",
    "        self.root = root\n",
    "        self.root.title(\"Ocean Profile Analysis\")\n",
    "\n",
    "        self.temperature_profiles = temperature_profiles\n",
    "        self.current_profile_index = 0  # Index of the currently displayed profile\n",
    "\n",
    "        self.canvas = plt.figure(figsize=(6, 4))\n",
    "        self.plot_area = self.canvas.add_subplot(111)\n",
    "        self.plot_area.set_xlabel(\"Temperature (°C)\")\n",
    "        self.plot_area.set_ylabel(\"Depth (m)\")\n",
    "\n",
    "        self.canvas_widget = FigureCanvasTkAgg(self.canvas, master=root)\n",
    "        self.canvas_widget.get_tk_widget().pack()\n",
    "\n",
    "        self.selected_depth = None\n",
    "\n",
    "        self.load_profile()  # Load first profile initially\n",
    "        self.next_button = tk.Button(root, text=\"Next\", command=self.load_next_profile)\n",
    "        self.next_button.pack()\n",
    "\n",
    "        self.canvas_widget.mpl_connect('button_press_event', self.on_click)\n",
    "\n",
    "    def load_profile(self):\n",
    "        # Plot the current profile\n",
    "        self.plot_area.clear()\n",
    "        depth, temperature = self.temperature_profiles[self.current_profile_index]\n",
    "        self.plot_area.plot(temperature, depth)\n",
    "        self.canvas_widget.draw()\n",
    "\n",
    "    def load_next_profile(self):\n",
    "        # Load and plot the next profile\n",
    "        self.current_profile_index = (self.current_profile_index + 1) % len(self.temperature_profiles)\n",
    "        self.load_profile()\n",
    "\n",
    "    def on_click(self, event):\n",
    "        # Get depth where user clicked\n",
    "        depth = event.ydata\n",
    "        # Record selected depth\n",
    "        self.selected_depth = depth\n",
    "        # Mark selected depth on the plot\n",
    "        self.plot_area.axhline(depth, color='r', linestyle='--')\n",
    "        self.canvas_widget.draw()\n",
    "\n",
    "# Create the GUI\n",
    "root = tk.Tk()\n",
    "gui = OceanProfileGUI(root, temperature_profiles)\n",
    "root.mainloop()"
   ]
  },
  {
   "cell_type": "code",
   "execution_count": 31,
   "id": "0b892ac0-5333-46f2-b58e-861e76cd76e2",
   "metadata": {},
   "outputs": [
    {
     "name": "stdout",
     "output_type": "stream",
     "text": [
      "Recorded Depths: [325.28571428571433, 483.2142857142858, 556.2857142857143, 650.5714285714286, 551.5714285714286]\n"
     ]
    }
   ],
   "source": [
    "%matplotlib qt\n",
    "class OceanProfileGUI:\n",
    "    def __init__(self, root, temperature_profiles):\n",
    "        self.root = root\n",
    "        self.root.title(\"Ocean Profile Analysis\")\n",
    "\n",
    "        self.temperature_profiles = temperature_profiles\n",
    "        self.num_profiles = len(temperature_profiles)\n",
    "        self.current_profile_index = 0  # Index of the currently displayed profile\n",
    "\n",
    "        self.canvas = plt.figure(figsize=(6, 4))\n",
    "        self.plot_area = self.canvas.add_subplot(111)\n",
    "        self.plot_area.set_xlabel(\"Temperature (°C)\")\n",
    "        self.plot_area.set_ylabel(\"Depth (m)\")\n",
    "\n",
    "        self.canvas_widget = FigureCanvasTkAgg(self.canvas, master=root)\n",
    "        self.canvas_widget.get_tk_widget().pack()\n",
    "\n",
    "        self.selected_depth = None\n",
    "        self.recorded_depths = []  # List to store recorded depths\n",
    "\n",
    "        self.load_profile()  # Load first profile initially\n",
    "        self.next_button = tk.Button(root, text=\"Next\", command=self.load_next_profile)\n",
    "        self.next_button.pack()\n",
    "\n",
    "        self.profile_label = tk.Label(root, text=f\"Profiles: {self.num_profiles}\")\n",
    "        self.profile_label.place(x=10, y=10)  # Position the label on the top-left corner\n",
    "\n",
    "        self.canvas_widget.mpl_connect('button_press_event', self.on_click)\n",
    "\n",
    "    def load_profile(self):\n",
    "        # Plot the current profile\n",
    "        self.plot_area.clear()\n",
    "        depth, temperature = self.temperature_profiles[self.current_profile_index]\n",
    "        self.plot_area.plot(temperature, depth)\n",
    "        self.canvas_widget.draw()\n",
    "\n",
    "    def load_next_profile(self):\n",
    "        # Load and plot the next profile\n",
    "        self.current_profile_index = (self.current_profile_index + 1) % self.num_profiles\n",
    "        self.load_profile()\n",
    "\n",
    "    def on_click(self, event):\n",
    "        # Get depth where user clicked\n",
    "        depth = event.ydata\n",
    "        # Record selected depth\n",
    "        self.selected_depth = depth\n",
    "        self.recorded_depths.append(depth)  # Record depth\n",
    "        # Mark selected depth on the plot\n",
    "        self.plot_area.axhline(depth, color='r', linestyle='--')\n",
    "        self.canvas_widget.draw()\n",
    "\n",
    "if __name__ == \"__main__\":\n",
    "    # Assuming temperature_profiles is the variable containing the loaded profiles\n",
    "\n",
    "    # Create the GUI\n",
    "    root = tk.Tk()\n",
    "    gui = OceanProfileGUI(root, temperature_profiles)\n",
    "    root.mainloop()\n",
    "\n",
    "    # Output recorded depths\n",
    "    print(\"Recorded Depths:\", gui.recorded_depths)"
   ]
  },
  {
   "cell_type": "code",
   "execution_count": 32,
   "id": "a03f5ddf-139b-4ef9-9ef7-de69d60f1078",
   "metadata": {},
   "outputs": [
    {
     "data": {
      "text/plain": [
       "'C:\\\\Users\\\\nribeiro\\\\OneDrive - University of Tasmania\\\\IMOS Shared Docs'"
      ]
     },
     "execution_count": 32,
     "metadata": {},
     "output_type": "execute_result"
    }
   ],
   "source": [
    "pwd"
   ]
  },
  {
   "cell_type": "code",
   "execution_count": null,
   "id": "242c22d5-4e4b-4c52-8781-109b4acb68eb",
   "metadata": {},
   "outputs": [],
   "source": []
  }
 ],
 "metadata": {
  "kernelspec": {
   "display_name": "Python 3 (ipykernel)",
   "language": "python",
   "name": "python3"
  },
  "language_info": {
   "codemirror_mode": {
    "name": "ipython",
    "version": 3
   },
   "file_extension": ".py",
   "mimetype": "text/x-python",
   "name": "python",
   "nbconvert_exporter": "python",
   "pygments_lexer": "ipython3",
   "version": "3.9.12"
  }
 },
 "nbformat": 4,
 "nbformat_minor": 5
}
