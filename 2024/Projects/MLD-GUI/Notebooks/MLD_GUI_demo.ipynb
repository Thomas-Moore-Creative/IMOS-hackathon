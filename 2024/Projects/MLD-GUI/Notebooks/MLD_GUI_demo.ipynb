{
 "cells": [
  {
   "cell_type": "markdown",
   "id": "ff504241-cbf8-4785-be39-514a750b85cd",
   "metadata": {},
   "source": [
    "### This Notebook is an attempt to create a GUI through Python.\n",
    "**I am going to be sincere and say that this work is all sweat and tears from Chat GPT**"
   ]
  },
  {
   "cell_type": "code",
   "execution_count": null,
   "id": "6dbfaad2-9dff-4384-90be-c7e1fa91579a",
   "metadata": {},
   "outputs": [],
   "source": [
    "## ideas to incorporate!\n",
    "## ctrl z button\n",
    "## a next button: you load a file with a number of profiles in it and then you can flick through them one by one \n"
   ]
  },
  {
   "cell_type": "code",
   "execution_count": 7,
   "id": "c5cf3ab7-3afd-4caf-9ba2-b54a5974d73f",
   "metadata": {},
   "outputs": [],
   "source": [
    "import tkinter as tk\n",
    "from tkinter import filedialog\n",
    "import matplotlib.pyplot as plt\n",
    "from matplotlib.backends.backend_tkagg import FigureCanvasTkAgg"
   ]
  },
  {
   "cell_type": "code",
   "execution_count": 8,
   "id": "cf8fa5d1-936e-4c75-85a0-1f28f48ae994",
   "metadata": {},
   "outputs": [],
   "source": [
    "# Generate dummy data for temperature profiles\n",
    "num_profiles = 5\n",
    "depth = np.arange(0, 1000, 10)  # Depth in meters\n",
    "temperature_profiles = []\n",
    "for _ in range(num_profiles):\n",
    "    temperature = np.random.uniform(2, 20, len(depth))  # Temperature in °C\n",
    "    temperature_profiles.append((depth, temperature))\n"
   ]
  },
  {
   "cell_type": "code",
   "execution_count": null,
   "id": "747487c1-d392-496c-8c9d-cb41963e50f2",
   "metadata": {},
   "outputs": [],
   "source": [
    "%matplotlib qt\n",
    "\n",
    "class OceanProfileGUI:\n",
    "    def __init__(self, root):\n",
    "        self.root = root\n",
    "        self.root.title(\"Ocean Profile Analysis\")\n",
    "\n",
    "        self.load_button = tk.Button(root, text=\"Load Profile\", command=self.load_profile)\n",
    "        self.load_button.pack()\n",
    "\n",
    "        self.canvas = plt.figure(figsize=(6, 4))\n",
    "        self.plot_area = self.canvas.add_subplot(111)\n",
    "        self.plot_area.set_xlabel(\"Temperature (°C)\")\n",
    "        self.plot_area.set_ylabel(\"Depth (m)\")\n",
    "\n",
    "        self.canvas_widget = FigureCanvasTkAgg(self.canvas, master=root)\n",
    "        self.canvas_widget.get_tk_widget().pack()\n",
    "\n",
    "        self.selected_depth = None\n",
    "        self.canvas_widget.mpl_connect('button_press_event', self.on_click)\n",
    "\n",
    "    def load_profile(self):\n",
    "        file_path = filedialog.askopenfilename(title=\"Select Ocean Temperature Profile\")\n",
    "        # Load temperature profile from file and plot it\n",
    "        # Replace this with your actual code to load and plot the profile\n",
    "\n",
    "    def on_click(self, event):\n",
    "        # Get depth where user clicked\n",
    "        depth = event.ydata\n",
    "        # Record selected depth\n",
    "        self.selected_depth = depth\n",
    "        # Mark selected depth on the plot\n",
    "        self.plot_area.axhline(depth, color='r', linestyle='--')\n",
    "        self.canvas_widget.draw()\n",
    "\n",
    "if __name__ == \"__main__\":\n",
    "    root = tk.Tk()\n",
    "    gui = OceanProfileGUI(root)\n",
    "    root.mainloop()\n"
   ]
  },
  {
   "cell_type": "code",
   "execution_count": null,
   "id": "0b892ac0-5333-46f2-b58e-861e76cd76e2",
   "metadata": {},
   "outputs": [],
   "source": []
  }
 ],
 "metadata": {
  "kernelspec": {
   "display_name": "Python 3 (ipykernel)",
   "language": "python",
   "name": "python3"
  },
  "language_info": {
   "codemirror_mode": {
    "name": "ipython",
    "version": 3
   },
   "file_extension": ".py",
   "mimetype": "text/x-python",
   "name": "python",
   "nbconvert_exporter": "python",
   "pygments_lexer": "ipython3",
   "version": "3.9.12"
  }
 },
 "nbformat": 4,
 "nbformat_minor": 5
}
